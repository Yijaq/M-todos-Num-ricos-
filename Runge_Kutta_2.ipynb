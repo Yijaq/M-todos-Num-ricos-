{
 "cells": [
  {
   "cell_type": "code",
   "execution_count": 94,
   "id": "4bf86734",
   "metadata": {},
   "outputs": [],
   "source": [
    "\"\"\"\n",
    "Created on Wed Sep 22 15:17:34 2021\n",
    "\n",
    "@author: YilberQuinto\n",
    "\"\"\"\n",
    "\n",
    "\n",
    "import numpy as np\n",
    "import matplotlib.pyplot as plt\n",
    "\n",
    "\n",
    "def Runge_Kutta_2(a, b, h0, y0, fun):\n",
    "    '''\n",
    "    El método de Runge-Kutta de orden 2 se utiliza para aproximar la solución del problema \n",
    "    de valor inical \n",
    "    \n",
    "              y' = f(t,y),  t en [a,b], y(a) = y0.\n",
    "              \n",
    "    Parameters\n",
    "    ----------\n",
    "    a : Float\n",
    "        Condición inicial en t (a = t0). extremo izq del intervalo [a,b]\n",
    "        \n",
    "    b : Float\n",
    "        Extremo derecho del intervalo [a,b].\n",
    "        \n",
    "    h : float\n",
    "        Tamaño de paso en t.\n",
    "        \n",
    "    y0 : Float\n",
    "        Condicion inicial en y.\n",
    "        \n",
    "    fun : funtion \n",
    "        Función de dos variables f(t,y).\n",
    "        \n",
    "\n",
    "    Returns\n",
    "    -------\n",
    "    Aproximación w para y. \n",
    "\n",
    "    '''\n",
    "    \n",
    "    t = a \n",
    "    h = h0\n",
    "    y = y0\n",
    "    list_t = []\n",
    "    list_y = []\n",
    "    \n",
    "    while t < b + h: \n",
    "        list_t.append(t)\n",
    "        list_y.append(y)\n",
    "        \n",
    "        K1 = fun(t,y)\n",
    "        K2 = fun(t + h/2, y + h*K1/2) \n",
    "        \n",
    "        y = y + h*K2\n",
    "        \n",
    "        if np.abs(y) < 0.1:  # Esta parte calcula cuando el tanque se vacia.  \n",
    "            print(t)\n",
    "            \n",
    "        t = t + h \n",
    "            \n",
    "    return [list_t, list_y]  "
   ]
  },
  {
   "cell_type": "code",
   "execution_count": 95,
   "id": "9ac6318a",
   "metadata": {},
   "outputs": [
    {
     "name": "stdout",
     "output_type": "stream",
     "text": [
      "1506.33333333327\n",
      "1506.6666666666033\n",
      "1506.9999999999366\n",
      "1507.3333333332698\n",
      "1507.666666666603\n",
      "1507.9999999999363\n",
      "1508.3333333332696\n",
      "1508.6666666666029\n",
      "1508.999999999936\n",
      "\n",
      "Depues de 10 min la altura del agua es: 7.9787 pies\n",
      "0.21389809054074727\n"
     ]
    },
    {
     "data": {
      "image/png": "[encoded data removed]",
      "text/plain": [
       "<Figure size 432x288 with 1 Axes>"
      ]
     },
     "metadata": {
      "needs_background": "light"
     },
     "output_type": "display_data"
    }
   ],
   "source": [
    "def f1(t,y):\n",
    "    r = 0.1\n",
    "    g = 32.1\n",
    "    return - 0.6*(r**2)*((2*g)**(0.5))/y**(3/2)\n",
    "\n",
    "w = Runge_Kutta_2(0, 1510, 1/3, 8, f1)   \n",
    "\n",
    "b = w[1][30]\n",
    "print('')\n",
    "\n",
    "print(f'Depues de 10 min la altura del agua es: {b:.4f} pies')\n",
    "\n",
    "a = w[1][4518]\n",
    "\n",
    "print(a)\n",
    "\n",
    "# Resultados: las dos componentes juntas\n",
    "fig, ax = plt.subplots()\n",
    "ax.set_xlabel('t')\n",
    "ax.set_ylabel('x(t)')    \n",
    "plt.grid() # visualiza la cuadricula en la figura    \n",
    "plt.ylim(0,10)\n",
    "plt.xlim(0, 1510)\n",
    "\n",
    "plt.plot(w[0],w[1]) \n",
    "\n",
    "plt.savefig(\"Ejercicio_29a.jpeg\")\n",
    "plt.show() "
   ]
  },
  {
   "cell_type": "code",
   "execution_count": null,
   "id": "4ebb4897",
   "metadata": {},
   "outputs": [],
   "source": []
  }
 ],
 "metadata": {
  "kernelspec": {
   "display_name": "Python 3",
   "language": "python",
   "name": "python3"
  },
  "language_info": {
   "codemirror_mode": {
    "name": "ipython",
    "version": 3
   },
   "file_extension": ".py",
   "mimetype": "text/x-python",
   "name": "python",
   "nbconvert_exporter": "python",
   "pygments_lexer": "ipython3",
   "version": "3.8.5"
  }
 },
 "nbformat": 4,
 "nbformat_minor": 5
}
